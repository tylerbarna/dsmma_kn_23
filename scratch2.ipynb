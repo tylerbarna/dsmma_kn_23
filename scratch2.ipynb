{
 "cells": [
  {
   "cell_type": "code",
   "execution_count": 1,
   "metadata": {},
   "outputs": [],
   "source": [
    "import os\n",
    "import json\n",
    "from pathlib import Path\n",
    "import pandas as pd\n",
    "import numpy as np\n",
    "import seaborn as sns\n",
    "import matplotlib.pyplot as plt"
   ]
  },
  {
   "cell_type": "code",
   "execution_count": 11,
   "metadata": {},
   "outputs": [],
   "source": [
    "## read in merged_fit_stats_2.json as a dictionary\n",
    "with open('merged_fit_stats_2.json', 'r') as f:\n",
    "    data = dict(json.load(f))\n",
    "    "
   ]
  },
  {
   "cell_type": "code",
   "execution_count": 13,
   "metadata": {},
   "outputs": [
    {
     "data": {
      "text/plain": [
       "dict_keys(['lc_Me2017_00010', 'lc_TrPi2018_00010', 'lc_nugent-hyper_00010', 'lc_nugent-hyper_00011', 'lc_nugent-hyper_00012', 'lc_nugent-hyper_00013', 'lc_nugent-hyper_00014', 'lc_nugent-hyper_00015', 'lc_nugent-hyper_00016', 'misc'])"
      ]
     },
     "execution_count": 13,
     "metadata": {},
     "output_type": "execute_result"
    }
   ],
   "source": [
    "data['010'].keys()"
   ]
  },
  {
   "cell_type": "code",
   "execution_count": 28,
   "metadata": {},
   "outputs": [],
   "source": [
    "kn_objects = {}\n",
    "\n",
    "for key, value in data.items():\n",
    "    ## find any key in value that starts with lc_Me2017 or lc_Bu2019lm\n",
    "    for subkey, subvalue in value.items():\n",
    "        if subkey.startswith('lc_Me2017') or subkey.startswith('lc_Bu2019lm'):\n",
    "            kn_lightcurve = subvalue\n",
    "            kn_objects[subkey] = kn_lightcurve\n",
    "\n",
    "    # kn_objects.append(kn_lightcurve)"
   ]
  },
  {
   "cell_type": "code",
   "execution_count": 30,
   "metadata": {},
   "outputs": [],
   "source": [
    "obs_length = {}\n",
    "for key, value in kn_objects.items():\n",
    "    obs_length[key] = len(value)"
   ]
  },
  {
   "cell_type": "code",
   "execution_count": 34,
   "metadata": {},
   "outputs": [
    {
     "data": {
      "text/plain": [
       "(array([ 1.,  0.,  0.,  0.,  0.,  0.,  0.,  0.,  0.,  0.,  0.,  0.,  0.,\n",
       "         0.,  0.,  0.,  0.,  0.,  0., 80.]),\n",
       " array([7.  , 7.05, 7.1 , 7.15, 7.2 , 7.25, 7.3 , 7.35, 7.4 , 7.45, 7.5 ,\n",
       "        7.55, 7.6 , 7.65, 7.7 , 7.75, 7.8 , 7.85, 7.9 , 7.95, 8.  ]),\n",
       " <a list of 20 Patch objects>)"
      ]
     },
     "execution_count": 34,
     "metadata": {},
     "output_type": "execute_result"
    },
    {
     "data": {
      "image/png": "[encoded data removed]",
      "text/plain": [
       "<Figure size 432x288 with 1 Axes>"
      ]
     },
     "metadata": {
      "needs_background": "light"
     },
     "output_type": "display_data"
    }
   ],
   "source": [
    "## plot histogram of observation length\n",
    "plt.hist(obs_length.values(), bins=20)"
   ]
  }
 ],
 "metadata": {
  "kernelspec": {
   "display_name": "nmma",
   "language": "python",
   "name": "python3"
  },
  "language_info": {
   "codemirror_mode": {
    "name": "ipython",
    "version": 3
   },
   "file_extension": ".py",
   "mimetype": "text/x-python",
   "name": "python",
   "nbconvert_exporter": "python",
   "pygments_lexer": "ipython3",
   "version": "3.8.13"
  }
 },
 "nbformat": 4,
 "nbformat_minor": 2
}
