{
 "cells": [
  {
   "cell_type": "code",
   "execution_count": 3,
   "metadata": {},
   "outputs": [],
   "source": [
    "import os\n",
    "import json\n",
    "import bilby"
   ]
  },
  {
   "cell_type": "code",
   "execution_count": null,
   "metadata": {},
   "outputs": [],
   "source": []
  },
  {
   "cell_type": "code",
   "execution_count": 77,
   "metadata": {},
   "outputs": [],
   "source": [
    "test_path = '/home/tbarna/dsmma_kn_23/fits_expanse/'"
   ]
  },
  {
   "cell_type": "code",
   "execution_count": 79,
   "metadata": {},
   "outputs": [],
   "source": [
    "# find the json files, *result.json and *bestfit_params.json\n",
    "result_files = []\n",
    "bestfit_files = []\n",
    "for root, dirs, files in os.walk(test_path):\n",
    "    for file in files:\n",
    "        if file.endswith('result.json'):\n",
    "            result_files.append(os.path.join(root, file))\n",
    "        if file.endswith('bestfit_params.json'):\n",
    "            bestfit_files.append(os.path.join(root, file))\n",
    "result_files.sort()\n",
    "bestfit_files.sort()"
   ]
  },
  {
   "cell_type": "code",
   "execution_count": 91,
   "metadata": {},
   "outputs": [],
   "source": [
    "for i, j in zip(result_files, bestfit_files):\n",
    "    print(i, j)"
   ]
  },
  {
   "cell_type": "code",
   "execution_count": 92,
   "metadata": {},
   "outputs": [],
   "source": [
    "## zip the two lists together\n",
    "rbf = list(zip(result_files, bestfit_files))\n",
    "rbf"
   ]
  },
  {
   "cell_type": "code",
   "execution_count": 93,
   "metadata": {},
   "outputs": [],
   "source": [
    "with open(rbf[0][1]) as f:\n",
    "    bf_params = json.load(f)\n",
    "display(bf_params)\n",
    "bf_index = bf_params['Best fit index']\n",
    "bf_index"
   ]
  },
  {
   "cell_type": "code",
   "execution_count": 94,
   "metadata": {},
   "outputs": [],
   "source": [
    "with open(rbf[0][0]) as f:\n",
    "    result = json.load(f,object_hook=bilby.core.utils.decode_bilby_json)\n",
    "result#['log_bayes_factor']"
   ]
  },
  {
   "cell_type": "code",
   "execution_count": 95,
   "metadata": {},
   "outputs": [],
   "source": [
    "## now add the log_bayes_factor as a key and value to the bestfit_params.json. Make it write prior to the Magnitudes key\n",
    "with open(rbf[0][0]) as f:\n",
    "    result = json.load(f,object_hook=bilby.core.utils.decode_bilby_json)\n",
    "with open(rbf[0][1]) as f:\n",
    "    bf_params = json.load(f)\n",
    "    log_bayes_factor = result['log_bayes_factor']\n",
    "    best_fit_index = bf_params['Best fit index']\n",
    "    Magnitudes = bf_params['Magnitudes']\n",
    "    bf_params.pop('log_bayes_factor', None)\n",
    "    bf_params.pop('Best fit index', None)\n",
    "    bf_params.pop('Magnitudes', None)\n",
    "    bf_params['log_bayes_factor'] = log_bayes_factor\n",
    "    bf_params['Best fit index'] = best_fit_index\n",
    "    bf_params['Magnitudes'] = Magnitudes\n",
    "    \n",
    "bf_params\n",
    "## dump the new dictionary to the same file, but   \n",
    "# with open(rbf[0][1], 'w') as f:\n",
    "#     json.dump(bf_params, f, indent=4)"
   ]
  },
  {
   "cell_type": "code",
   "execution_count": 85,
   "metadata": {},
   "outputs": [],
   "source": [
    "for rb in rbf:\n",
    "    with open(rb[0]) as f:\n",
    "        result = json.load(f,object_hook=bilby.core.utils.decode_bilby_json)\n",
    "    with open(rb[1]) as f:\n",
    "        bf_params = json.load(f)\n",
    "    log_bayes_factor = result['log_bayes_factor']\n",
    "    best_fit_index = bf_params['Best fit index']\n",
    "    Magnitudes = bf_params['Magnitudes']\n",
    "    bf_params.pop('log_bayes_factor', None)\n",
    "    bf_params.pop('Best fit index', None)\n",
    "    bf_params.pop('Magnitudes', None)\n",
    "    bf_params['log_bayes_factor'] = log_bayes_factor\n",
    "    bf_params['Best fit index'] = best_fit_index\n",
    "    bf_params['Magnitudes'] = Magnitudes\n",
    "    # with open(rb[1], 'w') as f:\n",
    "    #     json.dump(bf_params, f, indent=4)"
   ]
  },
  {
   "cell_type": "code",
   "execution_count": 96,
   "metadata": {},
   "outputs": [],
   "source": [
    "# rbft = rbf[0]\n",
    "# with open(rbft[0]) as f:\n",
    "#     rt = json.load(f,object_hook=bilby.core.utils.decode_bilby_json)\n",
    "# with open(rbft[1]) as f:\n",
    "#     bft = json.load(f)\n",
    "# rt['posterior']"
   ]
  },
  {
   "cell_type": "code",
   "execution_count": null,
   "metadata": {},
   "outputs": [],
   "source": []
  }
 ],
 "metadata": {
  "kernelspec": {
   "display_name": "nmma_dev",
   "language": "python",
   "name": "python3"
  },
  "language_info": {
   "codemirror_mode": {
    "name": "ipython",
    "version": 3
   },
   "file_extension": ".py",
   "mimetype": "text/x-python",
   "name": "python",
   "nbconvert_exporter": "python",
   "pygments_lexer": "ipython3",
   "version": "3.10.13"
  }
 },
 "nbformat": 4,
 "nbformat_minor": 2
}
